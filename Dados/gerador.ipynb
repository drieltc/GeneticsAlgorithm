{
 "cells": [
  {
   "cell_type": "code",
   "execution_count": 1,
   "metadata": {},
   "outputs": [],
   "source": [
    "import numpy as np\n",
    "import pandas as pd"
   ]
  },
  {
   "cell_type": "code",
   "execution_count": 4,
   "metadata": {},
   "outputs": [
    {
     "name": "stdout",
     "output_type": "stream",
     "text": [
      "Dataset com 100000 entradas e 1025 colunas Onus gerado e salvo em dataset.csv\n"
     ]
    }
   ],
   "source": [
    "def gerar_dataset(tamanho_dataset, quantidade_onus=4):\n",
    "  \"\"\"\n",
    "  Gera um dataset com colunas especificadas e salva em um arquivo CSV.\n",
    "\n",
    "  Args:\n",
    "    tamanho_dataset: A quantidade de entradas no dataset.\n",
    "    quantidade_onus: O número de colunas \"Onus\" a serem geradas.\n",
    "\n",
    "  Returns:\n",
    "    Um arquivo CSV com o dataset gerado.\n",
    "  \"\"\"\n",
    "\n",
    "  # Cria um dicionário com as colunas do dataset\n",
    "  dados = {\n",
    "      'Object_Identificator': range(tamanho_dataset),\n",
    "      'Bonus': np.random.uniform(0, 1000, tamanho_dataset).round(5)\n",
    "  }\n",
    "\n",
    "  # Gera as colunas \"Onus\" dinamicamente\n",
    "  for i in range(quantidade_onus):\n",
    "    dados[f'Onus_{i}'] = np.random.uniform(0, 1000, tamanho_dataset).round(5)\n",
    "\n",
    "  # Cria um DataFrame pandas a partir do dicionário\n",
    "  df = pd.DataFrame(dados)\n",
    "\n",
    "  # Salva o DataFrame em um arquivo CSV\n",
    "  df.to_csv('1GB.csv', index=False)\n",
    "\n",
    "  print(f'Dataset com {tamanho_dataset} entradas e {quantidade_onus} colunas Onus gerado e salvo em dataset.csv')\n",
    "\n",
    "# Exemplo de uso: gerar um dataset com 1000 entradas e 6 colunas Onus\n",
    "gerar_dataset(100000, 1025)"
   ]
  },
  {
   "cell_type": "markdown",
   "metadata": {},
   "source": [
    "1MB - 110 onus; 1000 entradas\n",
    "10MB - 101 onus; 10000 entradas\n",
    "100MB - 1025 onus; 10000 entradas\n",
    "1GB - 1025 onus; 100000 entrads"
   ]
  }
 ],
 "metadata": {
  "kernelspec": {
   "display_name": "Python 3",
   "language": "python",
   "name": "python3"
  },
  "language_info": {
   "codemirror_mode": {
    "name": "ipython",
    "version": 3
   },
   "file_extension": ".py",
   "mimetype": "text/x-python",
   "name": "python",
   "nbconvert_exporter": "python",
   "pygments_lexer": "ipython3",
   "version": "3.10.12"
  }
 },
 "nbformat": 4,
 "nbformat_minor": 2
}
