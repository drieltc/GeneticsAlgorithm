{
 "cells": [
  {
   "cell_type": "code",
   "execution_count": 1,
   "metadata": {},
   "outputs": [
    {
     "name": "stdout",
     "output_type": "stream",
     "text": [
      "Defaulting to user installation because normal site-packages is not writeable\n",
      "Requirement already satisfied: pandas in /home/adriel/.local/lib/python3.10/site-packages (2.2.3)\n",
      "Requirement already satisfied: tzdata>=2022.7 in /home/adriel/.local/lib/python3.10/site-packages (from pandas) (2025.2)\n",
      "Requirement already satisfied: python-dateutil>=2.8.2 in /home/adriel/.local/lib/python3.10/site-packages (from pandas) (2.9.0.post0)\n",
      "Requirement already satisfied: numpy>=1.22.4 in /home/adriel/.local/lib/python3.10/site-packages (from pandas) (2.2.4)\n",
      "Requirement already satisfied: pytz>=2020.1 in /usr/lib/python3/dist-packages (from pandas) (2022.1)\n",
      "Requirement already satisfied: six>=1.5 in /usr/lib/python3/dist-packages (from python-dateutil>=2.8.2->pandas) (1.16.0)\n",
      "Note: you may need to restart the kernel to use updated packages.\n"
     ]
    }
   ],
   "source": [
    "%pip install pandas"
   ]
  },
  {
   "cell_type": "code",
   "execution_count": 4,
   "metadata": {},
   "outputs": [],
   "source": [
    "import pandas as pd\n",
    "import numpy as np"
   ]
  },
  {
   "cell_type": "code",
   "execution_count": 5,
   "metadata": {},
   "outputs": [],
   "source": [
    "def gerar_dataset(num_pacientes, num_genes):\n",
    "    \"\"\"\n",
    "    Gera um dataset com informações de pacientes.\n",
    "\n",
    "    Args:\n",
    "        num_pacientes (int): O número de pacientes no dataset.\n",
    "\n",
    "    Returns:\n",
    "        pandas.DataFrame: O dataset gerado.\n",
    "    \"\"\"\n",
    "\n",
    "    # Gera dados aleatórios para cada coluna\n",
    "    ids = np.arange(1, num_pacientes + 1)\n",
    "    idades = np.random.randint(18, 80, num_pacientes)  # Idades entre 18 e 80 anos\n",
    "    condicoes = np.random.choice(['A', 'B', 'C', 'D', 'S'], num_pacientes)\n",
    "    expressividades = np.random.uniform(0, 1, num_pacientes)  # Valores entre 0 e 1\n",
    "\n",
    "    # Ajusta Grau_Expressividade para pacientes saudáveis (Condicao_Medica == 'S')\n",
    "    expressividades[condicoes == 'S'] = 0\n",
    "\n",
    "    # Cria um dicionário com os dados\n",
    "    data = {\n",
    "        'ID_Paciente': ids,\n",
    "        'Idade_Paciente': idades,\n",
    "        'Condicao_Medica': condicoes,\n",
    "        'Grau_Expressividade': expressividades\n",
    "    }\n",
    "\n",
    "    # Gera dados binários aleatórios para os genes (50 colunas)\n",
    "    for i in range(1, num_genes + 1):\n",
    "        data[f'Gene_{i}'] = np.random.choice([0, 1], num_pacientes)\n",
    "\n",
    "    # Cria um DataFrame pandas a partir do dicionário\n",
    "    df = pd.DataFrame(data)\n",
    "\n",
    "    return df"
   ]
  },
  {
   "cell_type": "code",
   "execution_count": 10,
   "metadata": {},
   "outputs": [
    {
     "name": "stdout",
     "output_type": "stream",
     "text": [
      "Dataset gerado e salvo em 'dataset_pacientes.csv'\n"
     ]
    }
   ],
   "source": [
    "# Exemplo de uso: gera um dataset com 100 pacientes\n",
    "dataset = gerar_dataset(1000000, 500)\n",
    "\n",
    "# Salva o dataset em um arquivo CSV\n",
    "dataset.to_csv('dataset_pacientes.csv', index=False)\n",
    "\n",
    "print(\"Dataset gerado e salvo em 'dataset_pacientes.csv'\")"
   ]
  },
  {
   "cell_type": "code",
   "execution_count": 6,
   "metadata": {},
   "outputs": [
    {
     "name": "stdout",
     "output_type": "stream",
     "text": [
      "Dataset de amostra gerado e salvo em 'dataset_amostra.csv'\n"
     ]
    }
   ],
   "source": [
    "ds = gerar_dataset(100,50)\n",
    "ds.to_csv('dataset_amostra.csv', index=False)\n",
    "print(\"Dataset de amostra gerado e salvo em 'dataset_amostra.csv'\")"
   ]
  }
 ],
 "metadata": {
  "kernelspec": {
   "display_name": "Python 3",
   "language": "python",
   "name": "python3"
  },
  "language_info": {
   "codemirror_mode": {
    "name": "ipython",
    "version": 3
   },
   "file_extension": ".py",
   "mimetype": "text/x-python",
   "name": "python",
   "nbconvert_exporter": "python",
   "pygments_lexer": "ipython3",
   "version": "3.10.12"
  }
 },
 "nbformat": 4,
 "nbformat_minor": 2
}
